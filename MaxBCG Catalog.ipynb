{
 "cells": [
  {
   "cell_type": "markdown",
   "metadata": {},
   "source": [
    "# MaxBCG CATALOG OF 13,823 GALAXY CLUSTERS FROM SDSS"
   ]
  },
  {
   "cell_type": "markdown",
   "metadata": {},
   "source": [
    "The data comes from Koester et al. (2007a)\n",
    "\n",
    "* 13,823 galaxy clusters\n",
    "* velocity dispersion ~ 400 km/s\n",
    "* 0.5 Gpc³ 7,500 deg²\n",
    "* 0.1 < z < 0.3\n",
    "* 10 - 190 E/SO galaxies brigther than 0.4 L* within R200\n",
    "* Masses > 1 * 10¹⁴ massas solares\n",
    "\n",
    "Let's read the table:"
   ]
  },
  {
   "cell_type": "code",
   "execution_count": 1,
   "metadata": {
    "collapsed": false
   },
   "outputs": [
    {
     "data": {
      "text/plain": [
       "<matplotlib.figure.Figure at 0x7f988954aed0>"
      ]
     },
     "metadata": {},
     "output_type": "display_data"
    }
   ],
   "source": [
    "%matplotlib inline\n",
    "import numpy as np\n",
    "import pandas as pd\n",
    "import matplotlib.pyplot as plt\n",
    "from matplotlib.pyplot import figure, show\n",
    "\n",
    "ax = np.genfromtxt(fname=\"TabKoester.csv\", skip_header=1, delimiter=\",\", dtype=None)\n",
    "fig = figure(1,figsize=(5,5))"
   ]
  },
  {
   "cell_type": "markdown",
   "metadata": {},
   "source": [
    "Let's test the table:"
   ]
  },
  {
   "cell_type": "code",
   "execution_count": 2,
   "metadata": {
    "collapsed": false,
    "scrolled": true
   },
   "outputs": [
    {
     "name": "stdout",
     "output_type": "stream",
     "text": [
      "[(239.58334, 27.23342, 0.103, 0.09079, 8.67, 10.73, 274.7, 343.4, 95, 188)\n",
      " (140.10742, 30.49406, 0.292, 19.3, 24.0, 245.7, 300.7, 69.0, 126, -1)\n",
      " (198.77182, 51.81738, 0.286, 16.12, 19.96, 166.1, 201.8, 62.0, 87, -1)\n",
      " ..., (119.6046, 17.97428, 0.273, 0.97, 1.24, 8.6, 10.7, 11.0, 10, -1)\n",
      " (150.82506, 11.42571, 0.211, 1.02, 1.25, 7.6, 9.3, 14.0, 10, -1)\n",
      " (194.67892, -1.77815, 0.116, 0.66, 0.82, 9.4, 11.5, 19.0, 17, -1)]\n"
     ]
    }
   ],
   "source": [
    "print ax"
   ]
  },
  {
   "cell_type": "markdown",
   "metadata": {},
   "source": [
    "Now, for a better view, we can also use pandas."
   ]
  },
  {
   "cell_type": "markdown",
   "metadata": {},
   "source": [
    "The columns of this table contains photometric and spectroscopic redshift, BCG r-band luminosity, BCG i-band luminosity, total r-band luminosity, total i-band luminosity, galaxy count and scaled richness from left to right.\n",
    "\n",
    "For to make some plot I will need first match each column to a varible. Let's try to do that first for z photometric, zph;"
   ]
  },
  {
   "cell_type": "code",
   "execution_count": 3,
   "metadata": {
    "collapsed": false
   },
   "outputs": [
    {
     "data": {
      "text/html": [
       "<div>\n",
       "<table border=\"1\" class=\"dataframe\">\n",
       "  <thead>\n",
       "    <tr style=\"text-align: right;\">\n",
       "      <th></th>\n",
       "      <th>f0</th>\n",
       "      <th>f1</th>\n",
       "      <th>f2</th>\n",
       "      <th>f3</th>\n",
       "      <th>f4</th>\n",
       "      <th>f5</th>\n",
       "      <th>f6</th>\n",
       "      <th>f7</th>\n",
       "      <th>f8</th>\n",
       "      <th>f9</th>\n",
       "    </tr>\n",
       "  </thead>\n",
       "  <tbody>\n",
       "    <tr>\n",
       "      <th>0</th>\n",
       "      <td>239.58334</td>\n",
       "      <td>27.23342</td>\n",
       "      <td>0.103</td>\n",
       "      <td>0.09079</td>\n",
       "      <td>8.67</td>\n",
       "      <td>10.73</td>\n",
       "      <td>274.7</td>\n",
       "      <td>343.4</td>\n",
       "      <td>95</td>\n",
       "      <td>188</td>\n",
       "    </tr>\n",
       "    <tr>\n",
       "      <th>1</th>\n",
       "      <td>140.10742</td>\n",
       "      <td>30.49406</td>\n",
       "      <td>0.292</td>\n",
       "      <td>19.30000</td>\n",
       "      <td>24.00</td>\n",
       "      <td>245.70</td>\n",
       "      <td>300.7</td>\n",
       "      <td>69.0</td>\n",
       "      <td>126</td>\n",
       "      <td>-1</td>\n",
       "    </tr>\n",
       "    <tr>\n",
       "      <th>2</th>\n",
       "      <td>198.77182</td>\n",
       "      <td>51.81738</td>\n",
       "      <td>0.286</td>\n",
       "      <td>16.12000</td>\n",
       "      <td>19.96</td>\n",
       "      <td>166.10</td>\n",
       "      <td>201.8</td>\n",
       "      <td>62.0</td>\n",
       "      <td>87</td>\n",
       "      <td>-1</td>\n",
       "    </tr>\n",
       "    <tr>\n",
       "      <th>3</th>\n",
       "      <td>126.37104</td>\n",
       "      <td>47.13348</td>\n",
       "      <td>0.135</td>\n",
       "      <td>0.12898</td>\n",
       "      <td>19.02</td>\n",
       "      <td>24.43</td>\n",
       "      <td>152.7</td>\n",
       "      <td>192.1</td>\n",
       "      <td>68</td>\n",
       "      <td>99</td>\n",
       "    </tr>\n",
       "    <tr>\n",
       "      <th>4</th>\n",
       "      <td>203.16008</td>\n",
       "      <td>50.55992</td>\n",
       "      <td>0.284</td>\n",
       "      <td>11.52000</td>\n",
       "      <td>14.66</td>\n",
       "      <td>229.60</td>\n",
       "      <td>277.9</td>\n",
       "      <td>67.0</td>\n",
       "      <td>114</td>\n",
       "      <td>-1</td>\n",
       "    </tr>\n",
       "  </tbody>\n",
       "</table>\n",
       "</div>"
      ],
      "text/plain": [
       "          f0        f1     f2        f3     f4      f5     f6     f7   f8   f9\n",
       "0  239.58334  27.23342  0.103   0.09079   8.67   10.73  274.7  343.4   95  188\n",
       "1  140.10742  30.49406  0.292  19.30000  24.00  245.70  300.7   69.0  126   -1\n",
       "2  198.77182  51.81738  0.286  16.12000  19.96  166.10  201.8   62.0   87   -1\n",
       "3  126.37104  47.13348  0.135   0.12898  19.02   24.43  152.7  192.1   68   99\n",
       "4  203.16008  50.55992  0.284  11.52000  14.66  229.60  277.9   67.0  114   -1"
      ]
     },
     "execution_count": 3,
     "metadata": {},
     "output_type": "execute_result"
    }
   ],
   "source": [
    "table = pd.DataFrame(ax,)\n",
    "table.head()"
   ]
  },
  {
   "cell_type": "code",
   "execution_count": 4,
   "metadata": {
    "collapsed": false
   },
   "outputs": [
    {
     "ename": "IndexError",
     "evalue": "too many indices for array",
     "output_type": "error",
     "traceback": [
      "\u001b[1;31m---------------------------------------------------------------------------\u001b[0m",
      "\u001b[1;31mIndexError\u001b[0m                                Traceback (most recent call last)",
      "\u001b[1;32m<ipython-input-4-1c5fc6d7d26d>\u001b[0m in \u001b[0;36m<module>\u001b[1;34m()\u001b[0m\n\u001b[1;32m----> 1\u001b[1;33m \u001b[0mzph\u001b[0m \u001b[1;33m=\u001b[0m \u001b[0max\u001b[0m\u001b[1;33m[\u001b[0m\u001b[1;33m:\u001b[0m\u001b[1;33m,\u001b[0m\u001b[1;36m2\u001b[0m\u001b[1;33m]\u001b[0m\u001b[1;33m\u001b[0m\u001b[0m\n\u001b[0m",
      "\u001b[1;31mIndexError\u001b[0m: too many indices for array"
     ]
    }
   ],
   "source": [
    "zph = ax[:,2]"
   ]
  },
  {
   "cell_type": "markdown",
   "metadata": {},
   "source": [
    "Why did I get an error?"
   ]
  },
  {
   "cell_type": "code",
   "execution_count": null,
   "metadata": {
    "collapsed": true
   },
   "outputs": [],
   "source": []
  }
 ],
 "metadata": {
  "kernelspec": {
   "display_name": "Python 2",
   "language": "python",
   "name": "python2"
  },
  "language_info": {
   "codemirror_mode": {
    "name": "ipython",
    "version": 2
   },
   "file_extension": ".py",
   "mimetype": "text/x-python",
   "name": "python",
   "nbconvert_exporter": "python",
   "pygments_lexer": "ipython2",
   "version": "2.7.11"
  }
 },
 "nbformat": 4,
 "nbformat_minor": 0
}
