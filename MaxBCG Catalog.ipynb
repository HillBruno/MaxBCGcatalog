{
 "cells": [
  {
   "cell_type": "markdown",
   "metadata": {},
   "source": [
    "# MaxBCG CATALOG OF 13,823 GALAXY CLUSTERS FROM SDSS"
   ]
  },
  {
   "cell_type": "markdown",
   "metadata": {},
   "source": [
    "The data comes from Koester et al. (2007a)\n",
    "\n",
    "* 13,823 galaxy clusters\n",
    "* velocity dispersion ~ 400 km/s\n",
    "* 0.5 Gpc³ 7,500 deg²\n",
    "* 0.1 < z < 0.3\n",
    "* 10 - 190 E/SO galaxies brigther than 0.4 L* within R200\n",
    "* Masses > 1 * 10¹⁴ massas solares\n",
    "\n",
    "Let's read the table:"
   ]
  },
  {
   "cell_type": "code",
   "execution_count": 1,
   "metadata": {
    "collapsed": false,
    "scrolled": false
   },
   "outputs": [],
   "source": [
    "%matplotlib inline\n",
    "import numpy as np\n",
    "import matplotlib.pyplot as plt\n",
    "from astropy.table import Table\n",
    "from matplotlib.pyplot import figure, show\n",
    "\n",
    "ax = np.genfromtxt(fname=\"TabKoester.csv\", skip_header=1, delimiter=\",\", \n",
    "                   dtype=None)\n",
    "\n",
    "# For to make some plot in the future I will need first match each column to a varible.\n",
    "zph = ax[:,2]\n",
    "zsp = ax[:,3]\n",
    "LBr = ax[:,4]\n",
    "LBi = ax[:,5]\n",
    "LTr = ax[:,6]\n",
    "LTi = ax[:,7]"
   ]
  },
  {
   "cell_type": "markdown",
   "metadata": {},
   "source": [
    "Let's test the table:"
   ]
  },
  {
   "cell_type": "code",
   "execution_count": 2,
   "metadata": {
    "collapsed": false
   },
   "outputs": [
    {
     "name": "stdout",
     "output_type": "stream",
     "text": [
      "    ra       dec     zph    zsp    LBr   LBi   LTr   LTi \n",
      "--------- --------- ----- ------- ----- ----- ----- -----\n",
      "239.58334  27.23342 0.103 0.09079  8.67 10.73 274.7 343.4\n",
      "140.10742  30.49406 0.292    19.3  24.0 245.7 300.7  69.0\n",
      "198.77182  51.81738 0.286   16.12 19.96 166.1 201.8  62.0\n",
      "126.37104  47.13348 0.135 0.12898 19.02 24.43 152.7 192.1\n",
      "203.16008  50.55992 0.284   11.52 14.66 229.6 277.9  67.0\n",
      "354.41554   0.27138 0.286  0.2772 11.69 14.38 145.2 177.3\n",
      "213.78496  -0.49325 0.135 0.13894 10.69  13.8 152.9 192.4\n",
      "189.24684  63.18658 0.294   26.51 32.39 179.0 222.4  57.0\n",
      "216.48612  37.81645 0.167 0.17001 12.29 15.48 130.9 164.0\n",
      "187.70363  10.54638 0.167 0.17051 14.83 18.54 115.8 142.6\n",
      "      ...       ...   ...     ...   ...   ...   ...   ...\n",
      "236.40714   1.18208 0.186    1.23   1.5   9.6  11.7  16.0\n",
      "170.58256    46.143 0.203    1.13  1.41  19.1  23.6  21.0\n",
      "  6.43274  15.47446 0.203    1.37  1.73   9.1  11.2  14.0\n",
      "176.75993  41.36269 0.159    1.16   1.5   7.8   9.7  11.0\n",
      "170.72412   2.70511 0.262    1.34   1.6  10.5  12.9  13.0\n",
      "  6.78381 -10.96265 0.132  0.1505  0.96  1.23   8.2  10.2\n",
      "235.48406   54.8604 0.151     1.0  1.24   8.7  10.7  12.0\n",
      "142.05674   31.6544 0.154    1.06  1.32   8.7  10.6  14.0\n",
      " 119.6046  17.97428 0.273    0.97  1.24   8.6  10.7  11.0\n",
      "150.82506  11.42571 0.211    1.02  1.25   7.6   9.3  14.0\n",
      "194.67892  -1.77815 0.116    0.66  0.82   9.4  11.5  19.0\n",
      "Length = 13823 rows\n"
     ]
    }
   ],
   "source": [
    "ta = Table.read('TabKoester.csv', format='ascii.csv')\n",
    "print ta"
   ]
  },
  {
   "cell_type": "markdown",
   "metadata": {},
   "source": [
    "The columns of this table contains photometric and spectroscopic redshift, BCG r-band luminosity, BCG i-band luminosity, total r-band luminosity and total i-band luminosity from left to right.\n",
    "\n",
    "Let's try to make our first plot;"
   ]
  },
  {
   "cell_type": "code",
   "execution_count": 3,
   "metadata": {
    "collapsed": false,
    "scrolled": false
   },
   "outputs": [
    {
     "data": {
      "image/png": "[encoded data removed]",
      "text/plain": [
       "<matplotlib.figure.Figure at 0x7f8259069810>"
      ]
     },
     "metadata": {},
     "output_type": "display_data"
    }
   ],
   "source": [
    "fig = figure(1,figsize=(5,5))\n",
    "az = fig.add_subplot(1,1,1, autoscale_on=False,axisbg='white', xlim=(0.09,0.31), ylim=(0,1.1))\n",
    "\n",
    "az.set_title('MaxBCG')\n",
    "az.set_xlabel('Photometric z',fontsize=15,style='italic')\n",
    "az.set_ylabel('Spectroscopic z',fontsize=15,style='italic')\n",
    "    \n",
    "plt.plot(zph, zsp, 'k.', linewidth = 3,color = 'red')\n",
    "plt.show()"
   ]
  },
  {
   "cell_type": "code",
   "execution_count": null,
   "metadata": {
    "collapsed": true
   },
   "outputs": [],
   "source": []
  }
 ],
 "metadata": {
  "kernelspec": {
   "display_name": "Python 2",
   "language": "python",
   "name": "python2"
  },
  "language_info": {
   "codemirror_mode": {
    "name": "ipython",
    "version": 2
   },
   "file_extension": ".py",
   "mimetype": "text/x-python",
   "name": "python",
   "nbconvert_exporter": "python",
   "pygments_lexer": "ipython2",
   "version": "2.7.11"
  }
 },
 "nbformat": 4,
 "nbformat_minor": 0
}
